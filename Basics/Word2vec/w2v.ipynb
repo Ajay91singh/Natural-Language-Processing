{
  "nbformat": 4,
  "nbformat_minor": 0,
  "metadata": {
    "orig_nbformat": 2,
    "kernelspec": {
      "name": "python3",
      "display_name": "Python 3"
    },
    "metadata": {
      "interpreter": {
        "hash": "5b5abe7e63058852b6f85d1ed91a74ea0f7432f2265137655556c81ff9a58417"
      }
    },
    "colab": {
      "name": "w2v.ipynb",
      "provenance": [],
      "include_colab_link": true
    },
    "language_info": {
      "name": "python"
    }
  },
  "cells": [
    {
      "cell_type": "markdown",
      "metadata": {
        "id": "view-in-github",
        "colab_type": "text"
      },
      "source": [
        "<a href=\"https://colab.research.google.com/github/Gladiator07/Natural-Language-Processing/blob/main/Basics/Word2vec/w2v.ipynb\" target=\"_parent\"><img src=\"https://colab.research.google.com/assets/colab-badge.svg\" alt=\"Open In Colab\"/></a>"
      ]
    },
    {
      "cell_type": "markdown",
      "metadata": {
        "id": "YTFRnpCVDAkK"
      },
      "source": [
        "## Gensim Word2Vectors"
      ]
    },
    {
      "cell_type": "markdown",
      "metadata": {
        "id": "5s_C9-YhGhRQ"
      },
      "source": [
        "## Training a word2vec model\n"
      ]
    },
    {
      "cell_type": "markdown",
      "metadata": {
        "id": "cSFdzmtaGk4W"
      },
      "source": [
        "First, let's see how to train a model on the text you have. The text maybe from crawled webpages, newspaper, or anything. Here, we will consider a speech data"
      ]
    },
    {
      "cell_type": "code",
      "metadata": {
        "id": "7GTeEot0C-NA",
        "outputId": "3af78552-f68c-4cd9-f125-1b2bff708de0",
        "colab": {
          "base_uri": "https://localhost:8080/"
        }
      },
      "source": [
        "import re\n",
        "import nltk\n",
        "nltk.download('punkt')\n",
        "nltk.download('stopwords')\n",
        "\n",
        "from nltk.corpus import stopwords\n",
        "from gensim.models import Word2Vec"
      ],
      "execution_count": 8,
      "outputs": [
        {
          "output_type": "stream",
          "text": [
            "[nltk_data] Downloading package punkt to /root/nltk_data...\n",
            "[nltk_data]   Package punkt is already up-to-date!\n",
            "[nltk_data] Downloading package stopwords to /root/nltk_data...\n",
            "[nltk_data]   Unzipping corpora/stopwords.zip.\n"
          ],
          "name": "stdout"
        }
      ]
    },
    {
      "cell_type": "code",
      "metadata": {
        "id": "wW0IwfqHC-NC"
      },
      "source": [
        "paragraph = \"\"\"I have three visions for India. In 3000 years of our history, people from all over \n",
        "               the world have come and invaded us, captured our lands, conquered our minds. \n",
        "               From Alexander onwards, the Greeks, the Turks, the Moguls, the Portuguese, the British,\n",
        "               the French, the Dutch, all of them came and looted us, took over what was ours. \n",
        "               Yet we have not done this to any other nation. We have not conquered anyone. \n",
        "               We have not grabbed their land, their culture, \n",
        "               their history and tried to enforce our way of life on them. \n",
        "               Why? Because we respect the freedom of others.That is why my \n",
        "               first vision is that of freedom. I believe that India got its first vision of \n",
        "               this in 1857, when we started the War of Independence. It is this freedom that\n",
        "               we must protect and nurture and build on. If we are not free, no one will respect us.\n",
        "               My second vision for India’s development. For fifty years we have been a developing nation.\n",
        "               It is time we see ourselves as a developed nation. We are among the top 5 nations of the world\n",
        "               in terms of GDP. We have a 10 percent growth rate in most areas. Our poverty levels are falling.\n",
        "               Our achievements are being globally recognised today. Yet we lack the self-confidence to\n",
        "               see ourselves as a developed nation, self-reliant and self-assured. Isn’t this incorrect?\n",
        "               I have a third vision. India must stand up to the world. Because I believe that unless India \n",
        "               stands up to the world, no one will respect us. Only strength respects strength. We must be \n",
        "               strong not only as a military power but also as an economic power. Both must go hand-in-hand. \n",
        "               My good fortune was to have worked with three great minds. Dr. Vikram Sarabhai of the Dept. of \n",
        "               space, Professor Satish Dhawan, who succeeded him and Dr. Brahm Prakash, father of nuclear material.\n",
        "               I was lucky to have worked with all three of them closely and consider this the great opportunity of my life. \n",
        "               I see four milestones in my career\"\"\""
      ],
      "execution_count": 3,
      "outputs": []
    },
    {
      "cell_type": "code",
      "metadata": {
        "id": "7ExxklV-G_xs"
      },
      "source": [
        "# Preprocessing the data\n",
        "text = re.sub(r'\\[[0-9]*\\]',' ',paragraph)\n",
        "text = re.sub(r'\\s+',' ',text)\n",
        "text = text.lower()\n",
        "text = re.sub(r'\\d',' ',text)\n",
        "text = re.sub(r'\\s+',' ',text)"
      ],
      "execution_count": 4,
      "outputs": []
    },
    {
      "cell_type": "code",
      "metadata": {
        "id": "oWL_hPewHB-Q"
      },
      "source": [
        "# preparing the dataset\n",
        "sentences = nltk.sent_tokenize(text)\n",
        "\n",
        "sentences = [nltk.word_tokenize(sentence) for sentence in sentences]\n",
        "\n",
        "for i in range(len(sentences)):\n",
        "    sentences[i] = [word for word in sentences[i] if word not in stopwords.words('english')]"
      ],
      "execution_count": 9,
      "outputs": []
    },
    {
      "cell_type": "code",
      "metadata": {
        "id": "OVv2GNYGHZbL"
      },
      "source": [
        "# training the word2vec model\n",
        "model = Word2Vec(sentences, min_count=1)\n",
        "\n",
        "# min_count ==> ignore all words with total frequency lower than this"
      ],
      "execution_count": 10,
      "outputs": []
    },
    {
      "cell_type": "code",
      "metadata": {
        "id": "tSojsMijH70Q"
      },
      "source": [
        "words = model.wv.vocab"
      ],
      "execution_count": 11,
      "outputs": []
    },
    {
      "cell_type": "code",
      "metadata": {
        "id": "6saONYtVIDGt",
        "outputId": "f508faa5-7c3a-442f-c9ad-a478a53da191",
        "colab": {
          "base_uri": "https://localhost:8080/"
        }
      },
      "source": [
        "words"
      ],
      "execution_count": 12,
      "outputs": [
        {
          "output_type": "execute_result",
          "data": {
            "text/plain": [
              "{',': <gensim.models.keyedvectors.Vocab at 0x7f3314266c10>,\n",
              " '.': <gensim.models.keyedvectors.Vocab at 0x7f3314266910>,\n",
              " '?': <gensim.models.keyedvectors.Vocab at 0x7f33149068d0>,\n",
              " 'achievements': <gensim.models.keyedvectors.Vocab at 0x7f3314264790>,\n",
              " 'alexander': <gensim.models.keyedvectors.Vocab at 0x7f3314266d10>,\n",
              " 'also': <gensim.models.keyedvectors.Vocab at 0x7f3314264950>,\n",
              " 'among': <gensim.models.keyedvectors.Vocab at 0x7f3314264610>,\n",
              " 'anyone': <gensim.models.keyedvectors.Vocab at 0x7f3314266bd0>,\n",
              " 'areas': <gensim.models.keyedvectors.Vocab at 0x7f3314264410>,\n",
              " 'believe': <gensim.models.keyedvectors.Vocab at 0x7f3314264690>,\n",
              " 'brahm': <gensim.models.keyedvectors.Vocab at 0x7f33142927d0>,\n",
              " 'british': <gensim.models.keyedvectors.Vocab at 0x7f3314266e50>,\n",
              " 'build': <gensim.models.keyedvectors.Vocab at 0x7f33142642d0>,\n",
              " 'came': <gensim.models.keyedvectors.Vocab at 0x7f3314266f50>,\n",
              " 'captured': <gensim.models.keyedvectors.Vocab at 0x7f3314266a10>,\n",
              " 'career': <gensim.models.keyedvectors.Vocab at 0x7f3314292dd0>,\n",
              " 'closely': <gensim.models.keyedvectors.Vocab at 0x7f3314292b90>,\n",
              " 'come': <gensim.models.keyedvectors.Vocab at 0x7f3314266ad0>,\n",
              " 'conquered': <gensim.models.keyedvectors.Vocab at 0x7f3314266c90>,\n",
              " 'consider': <gensim.models.keyedvectors.Vocab at 0x7f3314292350>,\n",
              " 'culture': <gensim.models.keyedvectors.Vocab at 0x7f3314266690>,\n",
              " 'dept': <gensim.models.keyedvectors.Vocab at 0x7f3314292f10>,\n",
              " 'developed': <gensim.models.keyedvectors.Vocab at 0x7f33142646d0>,\n",
              " 'developing': <gensim.models.keyedvectors.Vocab at 0x7f33142640d0>,\n",
              " 'development': <gensim.models.keyedvectors.Vocab at 0x7f3314264110>,\n",
              " 'dhawan': <gensim.models.keyedvectors.Vocab at 0x7f3314292e90>,\n",
              " 'done': <gensim.models.keyedvectors.Vocab at 0x7f3314266b50>,\n",
              " 'dr.': <gensim.models.keyedvectors.Vocab at 0x7f3314292210>,\n",
              " 'dutch': <gensim.models.keyedvectors.Vocab at 0x7f3314266f10>,\n",
              " 'economic': <gensim.models.keyedvectors.Vocab at 0x7f3314264dd0>,\n",
              " 'enforce': <gensim.models.keyedvectors.Vocab at 0x7f3314266750>,\n",
              " 'falling': <gensim.models.keyedvectors.Vocab at 0x7f3314264710>,\n",
              " 'father': <gensim.models.keyedvectors.Vocab at 0x7f3314292e10>,\n",
              " 'fifty': <gensim.models.keyedvectors.Vocab at 0x7f3314264050>,\n",
              " 'first': <gensim.models.keyedvectors.Vocab at 0x7f3314264250>,\n",
              " 'fortune': <gensim.models.keyedvectors.Vocab at 0x7f3314264510>,\n",
              " 'four': <gensim.models.keyedvectors.Vocab at 0x7f3314292950>,\n",
              " 'free': <gensim.models.keyedvectors.Vocab at 0x7f3314264210>,\n",
              " 'freedom': <gensim.models.keyedvectors.Vocab at 0x7f3314264fd0>,\n",
              " 'french': <gensim.models.keyedvectors.Vocab at 0x7f3314266ed0>,\n",
              " 'gdp': <gensim.models.keyedvectors.Vocab at 0x7f33142647d0>,\n",
              " 'globally': <gensim.models.keyedvectors.Vocab at 0x7f3314264a50>,\n",
              " 'go': <gensim.models.keyedvectors.Vocab at 0x7f3314264490>,\n",
              " 'good': <gensim.models.keyedvectors.Vocab at 0x7f33142644d0>,\n",
              " 'got': <gensim.models.keyedvectors.Vocab at 0x7f3314264f50>,\n",
              " 'grabbed': <gensim.models.keyedvectors.Vocab at 0x7f3314266650>,\n",
              " 'great': <gensim.models.keyedvectors.Vocab at 0x7f3314264650>,\n",
              " 'greeks': <gensim.models.keyedvectors.Vocab at 0x7f3314266a50>,\n",
              " 'growth': <gensim.models.keyedvectors.Vocab at 0x7f3314264910>,\n",
              " 'hand-in-hand': <gensim.models.keyedvectors.Vocab at 0x7f3314264550>,\n",
              " 'history': <gensim.models.keyedvectors.Vocab at 0x7f3314266b90>,\n",
              " 'incorrect': <gensim.models.keyedvectors.Vocab at 0x7f3314264c10>,\n",
              " 'independence': <gensim.models.keyedvectors.Vocab at 0x7f3314264f10>,\n",
              " 'india': <gensim.models.keyedvectors.Vocab at 0x7f33142667d0>,\n",
              " 'invaded': <gensim.models.keyedvectors.Vocab at 0x7f3314266610>,\n",
              " 'lack': <gensim.models.keyedvectors.Vocab at 0x7f3314264b10>,\n",
              " 'land': <gensim.models.keyedvectors.Vocab at 0x7f3314266710>,\n",
              " 'lands': <gensim.models.keyedvectors.Vocab at 0x7f3314266a90>,\n",
              " 'levels': <gensim.models.keyedvectors.Vocab at 0x7f33142645d0>,\n",
              " 'life': <gensim.models.keyedvectors.Vocab at 0x7f331493a9d0>,\n",
              " 'looted': <gensim.models.keyedvectors.Vocab at 0x7f3314266f90>,\n",
              " 'lucky': <gensim.models.keyedvectors.Vocab at 0x7f3314292d90>,\n",
              " 'material': <gensim.models.keyedvectors.Vocab at 0x7f3314292610>,\n",
              " 'milestones': <gensim.models.keyedvectors.Vocab at 0x7f3314292e50>,\n",
              " 'military': <gensim.models.keyedvectors.Vocab at 0x7f3314264e50>,\n",
              " 'minds': <gensim.models.keyedvectors.Vocab at 0x7f3314266cd0>,\n",
              " 'moguls': <gensim.models.keyedvectors.Vocab at 0x7f3314266e10>,\n",
              " 'must': <gensim.models.keyedvectors.Vocab at 0x7f3314264a10>,\n",
              " 'nation': <gensim.models.keyedvectors.Vocab at 0x7f3314266990>,\n",
              " 'nations': <gensim.models.keyedvectors.Vocab at 0x7f3314264e90>,\n",
              " 'nuclear': <gensim.models.keyedvectors.Vocab at 0x7f3314292ed0>,\n",
              " 'nurture': <gensim.models.keyedvectors.Vocab at 0x7f3314264350>,\n",
              " 'one': <gensim.models.keyedvectors.Vocab at 0x7f3314264290>,\n",
              " 'onwards': <gensim.models.keyedvectors.Vocab at 0x7f3314266d50>,\n",
              " 'opportunity': <gensim.models.keyedvectors.Vocab at 0x7f3314292690>,\n",
              " 'others.that': <gensim.models.keyedvectors.Vocab at 0x7f3314264310>,\n",
              " 'people': <gensim.models.keyedvectors.Vocab at 0x7f33142665d0>,\n",
              " 'percent': <gensim.models.keyedvectors.Vocab at 0x7f3314264810>,\n",
              " 'portuguese': <gensim.models.keyedvectors.Vocab at 0x7f3314266e90>,\n",
              " 'poverty': <gensim.models.keyedvectors.Vocab at 0x7f3314264450>,\n",
              " 'power': <gensim.models.keyedvectors.Vocab at 0x7f33142648d0>,\n",
              " 'prakash': <gensim.models.keyedvectors.Vocab at 0x7f3314292b10>,\n",
              " 'professor': <gensim.models.keyedvectors.Vocab at 0x7f3314292190>,\n",
              " 'protect': <gensim.models.keyedvectors.Vocab at 0x7f3314264150>,\n",
              " 'rate': <gensim.models.keyedvectors.Vocab at 0x7f33142649d0>,\n",
              " 'recognised': <gensim.models.keyedvectors.Vocab at 0x7f3314264a90>,\n",
              " 'respect': <gensim.models.keyedvectors.Vocab at 0x7f3314264390>,\n",
              " 'respects': <gensim.models.keyedvectors.Vocab at 0x7f3314264d90>,\n",
              " 'sarabhai': <gensim.models.keyedvectors.Vocab at 0x7f33142921d0>,\n",
              " 'satish': <gensim.models.keyedvectors.Vocab at 0x7f3314292bd0>,\n",
              " 'second': <gensim.models.keyedvectors.Vocab at 0x7f3314264190>,\n",
              " 'see': <gensim.models.keyedvectors.Vocab at 0x7f33142643d0>,\n",
              " 'self-assured': <gensim.models.keyedvectors.Vocab at 0x7f3314264bd0>,\n",
              " 'self-confidence': <gensim.models.keyedvectors.Vocab at 0x7f3314264850>,\n",
              " 'self-reliant': <gensim.models.keyedvectors.Vocab at 0x7f3314264b90>,\n",
              " 'space': <gensim.models.keyedvectors.Vocab at 0x7f33142920d0>,\n",
              " 'stand': <gensim.models.keyedvectors.Vocab at 0x7f3314264cd0>,\n",
              " 'stands': <gensim.models.keyedvectors.Vocab at 0x7f3314264d10>,\n",
              " 'started': <gensim.models.keyedvectors.Vocab at 0x7f3314264f90>,\n",
              " 'strength': <gensim.models.keyedvectors.Vocab at 0x7f3314264d50>,\n",
              " 'strong': <gensim.models.keyedvectors.Vocab at 0x7f3314264e10>,\n",
              " 'succeeded': <gensim.models.keyedvectors.Vocab at 0x7f3314292250>,\n",
              " 'terms': <gensim.models.keyedvectors.Vocab at 0x7f3314264990>,\n",
              " 'third': <gensim.models.keyedvectors.Vocab at 0x7f3314264c50>,\n",
              " 'three': <gensim.models.keyedvectors.Vocab at 0x7f3314266350>,\n",
              " 'time': <gensim.models.keyedvectors.Vocab at 0x7f3314264b50>,\n",
              " 'today': <gensim.models.keyedvectors.Vocab at 0x7f3314264ad0>,\n",
              " 'took': <gensim.models.keyedvectors.Vocab at 0x7f3314266fd0>,\n",
              " 'top': <gensim.models.keyedvectors.Vocab at 0x7f3314264750>,\n",
              " 'tried': <gensim.models.keyedvectors.Vocab at 0x7f33142666d0>,\n",
              " 'turks': <gensim.models.keyedvectors.Vocab at 0x7f3314266dd0>,\n",
              " 'unless': <gensim.models.keyedvectors.Vocab at 0x7f3314264c90>,\n",
              " 'us': <gensim.models.keyedvectors.Vocab at 0x7f3314266790>,\n",
              " 'vikram': <gensim.models.keyedvectors.Vocab at 0x7f3314292310>,\n",
              " 'vision': <gensim.models.keyedvectors.Vocab at 0x7f3314264ed0>,\n",
              " 'visions': <gensim.models.keyedvectors.Vocab at 0x7f3314266890>,\n",
              " 'war': <gensim.models.keyedvectors.Vocab at 0x7f3314264090>,\n",
              " 'way': <gensim.models.keyedvectors.Vocab at 0x7f3314266810>,\n",
              " 'worked': <gensim.models.keyedvectors.Vocab at 0x7f3314264590>,\n",
              " 'world': <gensim.models.keyedvectors.Vocab at 0x7f33142668d0>,\n",
              " 'years': <gensim.models.keyedvectors.Vocab at 0x7f3314266950>,\n",
              " 'yet': <gensim.models.keyedvectors.Vocab at 0x7f3314266b10>,\n",
              " '’': <gensim.models.keyedvectors.Vocab at 0x7f33142641d0>}"
            ]
          },
          "metadata": {
            "tags": []
          },
          "execution_count": 12
        }
      ]
    },
    {
      "cell_type": "code",
      "metadata": {
        "id": "9aIuazEoIBSu",
        "outputId": "9f51aeb6-f7f5-4334-d292-34e6ce076426",
        "colab": {
          "base_uri": "https://localhost:8080/"
        }
      },
      "source": [
        "# finding word vectors\n",
        "vector = model.wv['war']\n",
        "len(vector)"
      ],
      "execution_count": 16,
      "outputs": [
        {
          "output_type": "execute_result",
          "data": {
            "text/plain": [
              "100"
            ]
          },
          "metadata": {
            "tags": []
          },
          "execution_count": 16
        }
      ]
    },
    {
      "cell_type": "code",
      "metadata": {
        "id": "-_upHpxrILso",
        "outputId": "2672c64f-e0c1-4f6b-89ba-8d1e53118511",
        "colab": {
          "base_uri": "https://localhost:8080/"
        }
      },
      "source": [
        "# most similar words\n",
        "model.wv.most_similar('vikram')"
      ],
      "execution_count": 19,
      "outputs": [
        {
          "output_type": "execute_result",
          "data": {
            "text/plain": [
              "[('milestones', 0.22493717074394226),\n",
              " ('us', 0.2003420889377594),\n",
              " ('nation', 0.19239884614944458),\n",
              " ('poverty', 0.18403995037078857),\n",
              " ('respect', 0.1829313337802887),\n",
              " ('career', 0.17213308811187744),\n",
              " ('self-assured', 0.16980814933776855),\n",
              " ('respects', 0.16890937089920044),\n",
              " ('got', 0.16214360296726227),\n",
              " ('brahm', 0.14997148513793945)]"
            ]
          },
          "metadata": {
            "tags": []
          },
          "execution_count": 19
        }
      ]
    },
    {
      "cell_type": "code",
      "metadata": {
        "id": "iiAWYvVxIbXY",
        "outputId": "7ef936aa-51fb-43e2-9c46-ea16ebe5a7af",
        "colab": {
          "base_uri": "https://localhost:8080/"
        }
      },
      "source": [
        "model.wv.most_similar('protect')"
      ],
      "execution_count": 20,
      "outputs": [
        {
          "output_type": "execute_result",
          "data": {
            "text/plain": [
              "[('captured', 0.22430670261383057),\n",
              " ('self-assured', 0.209663987159729),\n",
              " ('portuguese', 0.20700238645076752),\n",
              " ('moguls', 0.18458685278892517),\n",
              " ('us', 0.18096156418323517),\n",
              " ('anyone', 0.17662851512432098),\n",
              " ('lack', 0.1582556664943695),\n",
              " ('nurture', 0.1546485424041748),\n",
              " ('opportunity', 0.15356981754302979),\n",
              " ('levels', 0.15238653123378754)]"
            ]
          },
          "metadata": {
            "tags": []
          },
          "execution_count": 20
        }
      ]
    },
    {
      "cell_type": "markdown",
      "metadata": {
        "id": "Jx9WGjetIk_9"
      },
      "source": [
        "This was trained on just a single paragraph. So, don't expect this to be much accurate. But this might have given you a idea that how do we train a model, given a dataset"
      ]
    },
    {
      "cell_type": "code",
      "metadata": {
        "id": "Fh2D-yFaIiXD"
      },
      "source": [
        ""
      ],
      "execution_count": null,
      "outputs": []
    }
  ]
}