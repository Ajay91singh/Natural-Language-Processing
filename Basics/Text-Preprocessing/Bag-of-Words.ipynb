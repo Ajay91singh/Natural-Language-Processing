{
  "nbformat": 4,
  "nbformat_minor": 5,
  "metadata": {
    "kernelspec": {
      "display_name": "Python 3",
      "language": "python",
      "name": "python3"
    },
    "language_info": {
      "codemirror_mode": {
        "name": "ipython",
        "version": 3
      },
      "file_extension": ".py",
      "mimetype": "text/x-python",
      "name": "python",
      "nbconvert_exporter": "python",
      "pygments_lexer": "ipython3",
      "version": "3.7.10"
    },
    "colab": {
      "name": "Bag-of-Words.ipynb",
      "provenance": [],
      "include_colab_link": true
    }
  },
  "cells": [
    {
      "cell_type": "markdown",
      "metadata": {
        "id": "view-in-github",
        "colab_type": "text"
      },
      "source": [
        "<a href=\"https://colab.research.google.com/github/Gladiator07/Natural-Language-Processing/blob/main/Basics/Text-Preprocessing/Bag-of-Words.ipynb\" target=\"_parent\"><img src=\"https://colab.research.google.com/assets/colab-badge.svg\" alt=\"Open In Colab\"/></a>"
      ]
    },
    {
      "cell_type": "markdown",
      "metadata": {
        "id": "-hFL76tVmFmx"
      },
      "source": [
        "# Bag Of Words"
      ],
      "id": "-hFL76tVmFmx"
    },
    {
      "cell_type": "code",
      "metadata": {
        "id": "biological-shape"
      },
      "source": [
        "import nltk\n",
        "import re\n",
        "import numpy as np"
      ],
      "id": "biological-shape",
      "execution_count": 1,
      "outputs": []
    },
    {
      "cell_type": "code",
      "metadata": {
        "id": "Lb7DjcfEmJy5"
      },
      "source": [
        ""
      ],
      "id": "Lb7DjcfEmJy5",
      "execution_count": null,
      "outputs": []
    }
  ]
}