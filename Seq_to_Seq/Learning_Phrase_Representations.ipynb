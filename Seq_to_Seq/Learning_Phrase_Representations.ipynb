{
 "cells": [
  {
   "cell_type": "markdown",
   "id": "8c4bcc08",
   "metadata": {},
   "source": [
    "## Learning Phrase Representations using RNN Encoder-Decoder for Statistical Machine Translation"
   ]
  },
  {
   "cell_type": "markdown",
   "id": "f3b9f829",
   "metadata": {},
   "source": [
    "n this second notebook on sequence-to-sequence models using PyTorch and TorchText, we'll be implementing the model from [Learning Phrase Representations using RNN Encoder-Decoder for Statistical Machine Translation](https://arxiv.org/abs/1406.1078). This model will achieve improved test perplexity whilst only using a single layer RNN in both the encoder and the decoder."
   ]
  },
  {
   "cell_type": "markdown",
   "id": "77ac8433",
   "metadata": {},
   "source": [
    " Refer [original notebook](https://github.com/bentrevett/pytorch-seq2seq/blob/master/2%20-%20Learning%20Phrase%20Representations%20using%20RNN%20Encoder-Decoder%20for%20Statistical%20Machine%20Translation.ipynb) for more details and explanation"
   ]
  },
  {
   "cell_type": "markdown",
   "id": "8fc24434",
   "metadata": {},
   "source": [
    "## Preparing data"
   ]
  },
  {
   "cell_type": "code",
   "execution_count": null,
   "id": "d286925b",
   "metadata": {},
   "outputs": [],
   "source": [
    "import torch\n",
    "import torch.nn as nn\n",
    "import torch.optim as optim\n",
    "\n",
    "from torchtext.legacy.datasets import Multi30k"
   ]
  }
 ],
 "metadata": {
  "kernelspec": {
   "display_name": "Python 3",
   "language": "python",
   "name": "python3"
  },
  "language_info": {
   "codemirror_mode": {
    "name": "ipython",
    "version": 3
   },
   "file_extension": ".py",
   "mimetype": "text/x-python",
   "name": "python",
   "nbconvert_exporter": "python",
   "pygments_lexer": "ipython3",
   "version": "3.7.10"
  }
 },
 "nbformat": 4,
 "nbformat_minor": 5
}
